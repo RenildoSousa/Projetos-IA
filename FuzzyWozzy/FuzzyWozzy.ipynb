{
 "cells": [
  {
   "metadata": {
    "trusted": true
   },
   "cell_type": "code",
   "source": "from fuzzywuzzy import fuzz \nfrom fuzzywuzzy import process\nfuzz.ratio('Hoje é dia de exame', 'Hoje é dia de exame!')\nfuzz.ratio('Hoje é dia de exame!', 'Hoje é dia de exame!')\nfuzz.ratio('Hoje é dia de exame!', 'Hoje é dia de exame! ')\nfuzz.partial_ratio('Hoje é dia de exame', 'Hoje é dia de exame!')\nfuzz.partial_ratio('Hoje é dia de exame!', 'Hoje é dia de exame!')\nfuzz.token_sort_ratio('!Hoje é dia de exame', 'Hoje é dia de exame!')\nfuzz.token_sort_ratio('!É dia de exame hoje!', 'Hoje é dia de exame!')\n\nquery = 'geeks for geeks'\nchoices = ['geek for geek', 'geek geek', 'g. for geeks'] \n\nprocess.extract(query, choices)\n\nfuzz.WRatio('geeks for geeks', 'Geeks For Geeks')\n\nfuzz.ratio('geeks for geeks!!!','geeks for geeks')",
   "execution_count": 1,
   "outputs": [
    {
     "data": {
      "text/plain": "91"
     },
     "execution_count": 1,
     "metadata": {},
     "output_type": "execute_result"
    }
   ]
  },
  {
   "metadata": {
    "trusted": true
   },
   "cell_type": "code",
   "source": "",
   "execution_count": null,
   "outputs": []
  }
 ],
 "metadata": {
  "kernelspec": {
   "name": "python3",
   "display_name": "Python 3",
   "language": "python"
  },
  "language_info": {
   "name": "python",
   "version": "3.6.11",
   "mimetype": "text/x-python",
   "codemirror_mode": {
    "name": "ipython",
    "version": 3
   },
   "pygments_lexer": "ipython3",
   "nbconvert_exporter": "python",
   "file_extension": ".py"
  }
 },
 "nbformat": 4,
 "nbformat_minor": 4
}